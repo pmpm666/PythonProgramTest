{
 "cells": [
  {
   "cell_type": "markdown",
   "metadata": {},
   "source": [
    "# Jupyter使用指南\n",
    "本指南包括jupyter的具体使用，包括jupyter本身的使用，markdown的使用，以及git的使用。\n",
    "\n",
    "**在使用过程中，还可以看一些优秀的范例，不断学习**，[jupyter nbviewer](https://nbviewer.jupyter.org)\n",
    "\n",
    "## Jupyter Notebook入门\n",
    "Jupyter Notebook（此前被称为 IPython notebook）是一个交互式笔记本，支持运行 40 多种编程语言。\n",
    "[快速入门教程](http://codingpy.com/article/getting-started-with-jupyter-notebook-part-1/)\n",
    "\n",
    "## Markdown入门\n",
    "[入门教程](http://www.jianshu.com/p/3d94265833e4)\n",
    "\n",
    "[详细介绍](http://www.ituring.com.cn/article/775)\n",
    "\n",
    "[快速查询](http://moerjinrong.blog.51cto.com/11124564/1894674)\n",
    "\n",
    "## pycharm\n",
    "??\n",
    "\n",
    "## git\n",
    "??\n",
    "\n",
    "## pycharm + git\n",
    "??\n",
    "\n",
    "## Jupyter + git\n",
    "??"
   ]
  },
  {
   "cell_type": "code",
   "execution_count": null,
   "metadata": {
    "collapsed": true
   },
   "outputs": [],
   "source": []
  }
 ],
 "metadata": {
  "kernelspec": {
   "display_name": "Python 2",
   "language": "python",
   "name": "python2"
  },
  "language_info": {
   "codemirror_mode": {
    "name": "ipython",
    "version": 2
   },
   "file_extension": ".py",
   "mimetype": "text/x-python",
   "name": "python",
   "nbconvert_exporter": "python",
   "pygments_lexer": "ipython2",
   "version": "2.7.10"
  }
 },
 "nbformat": 4,
 "nbformat_minor": 0
}
